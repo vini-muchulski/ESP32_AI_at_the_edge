{
 "cells": [
  {
   "cell_type": "code",
   "execution_count": 1,
   "metadata": {
    "_cell_guid": "b1076dfc-b9ad-4769-8c92-a6c4dae69d19",
    "_uuid": "8f2839f25d086af736a60e9eeb907d3b93b6e0e5",
    "execution": {
     "iopub.execute_input": "2025-07-09T20:08:42.123370Z",
     "iopub.status.busy": "2025-07-09T20:08:42.123183Z",
     "iopub.status.idle": "2025-07-09T20:08:55.807477Z",
     "shell.execute_reply": "2025-07-09T20:08:55.806829Z",
     "shell.execute_reply.started": "2025-07-09T20:08:42.123344Z"
    },
    "trusted": true
   },
   "outputs": [
    {
     "name": "stderr",
     "output_type": "stream",
     "text": [
      "2025-07-09 20:08:43.594794: E external/local_xla/xla/stream_executor/cuda/cuda_fft.cc:477] Unable to register cuFFT factory: Attempting to register factory for plugin cuFFT when one has already been registered\n",
      "WARNING: All log messages before absl::InitializeLog() is called are written to STDERR\n",
      "E0000 00:00:1752091723.781622      35 cuda_dnn.cc:8310] Unable to register cuDNN factory: Attempting to register factory for plugin cuDNN when one has already been registered\n",
      "E0000 00:00:1752091723.835611      35 cuda_blas.cc:1418] Unable to register cuBLAS factory: Attempting to register factory for plugin cuBLAS when one has already been registered\n"
     ]
    }
   ],
   "source": [
    "import tensorflow as tf\n",
    "import numpy as np\n",
    "import matplotlib.pyplot as plt\n",
    "import tensorflow as tf\n",
    "\n",
    "from tensorflow.keras import datasets, layers, models\n",
    "\n",
    "from tensorflow.keras.callbacks import EarlyStopping, ModelCheckpoint\n",
    "\n",
    "import os\n",
    "import logging\n",
    "import warnings\n",
    "\n",
    "logging.getLogger(\"tensorflow\").setLevel(logging.ERROR)\n",
    "os.environ['TF_CPP_MIN_LOG_LEVEL'] = '2'\n",
    "warnings.filterwarnings('ignore')"
   ]
  },
  {
   "cell_type": "code",
   "execution_count": 2,
   "metadata": {
    "execution": {
     "iopub.execute_input": "2025-07-09T20:09:02.939519Z",
     "iopub.status.busy": "2025-07-09T20:09:02.938924Z",
     "iopub.status.idle": "2025-07-09T20:09:09.755793Z",
     "shell.execute_reply": "2025-07-09T20:09:09.754911Z",
     "shell.execute_reply.started": "2025-07-09T20:09:02.939495Z"
    },
    "trusted": true
   },
   "outputs": [
    {
     "name": "stdout",
     "output_type": "stream",
     "text": [
      "Downloading data from https://www.cs.toronto.edu/~kriz/cifar-10-python.tar.gz\n",
      "\u001b[1m170498071/170498071\u001b[0m \u001b[32m━━━━━━━━━━━━━━━━━━━━\u001b[0m\u001b[37m\u001b[0m \u001b[1m4s\u001b[0m 0us/step\n"
     ]
    }
   ],
   "source": [
    "(x_train, y_train), (x_test, y_test) = tf.keras.datasets.cifar10.load_data()\n",
    "\n",
    "\n",
    "x_train = x_train.astype(\"float32\") / 255.0\n",
    "x_test  = x_test.astype(\"float32\")  / 255.0\n"
   ]
  },
  {
   "cell_type": "code",
   "execution_count": 3,
   "metadata": {
    "execution": {
     "iopub.execute_input": "2025-07-09T20:09:13.602628Z",
     "iopub.status.busy": "2025-07-09T20:09:13.602323Z",
     "iopub.status.idle": "2025-07-09T20:09:13.610007Z",
     "shell.execute_reply": "2025-07-09T20:09:13.609300Z",
     "shell.execute_reply.started": "2025-07-09T20:09:13.602605Z"
    },
    "trusted": true
   },
   "outputs": [],
   "source": [
    "# -------------------------------------------------------------------\n",
    "# 1) Configurações gerais (hiperparâmetros, caminhos, etc)\n",
    "# -------------------------------------------------------------------\n",
    "\n",
    "EPOCHS       = 30\n",
    "BATCH_SIZE   = 128\n",
    "VALID_SPLIT  = 0.1\n",
    "MODEL_PATH   = \"best_cifar10_model.h5\"\n",
    "TFLITE_PATH  = \"cifar10_simple.tflite\"\n",
    "PATIENCE_ES  = 10\n",
    "MONITOR_MET  = \"val_loss\"\n",
    "\n",
    "\n",
    "# -------------------------------------------------------------------\n",
    "# 2) Helpers\n",
    "# -------------------------------------------------------------------\n",
    "def get_callbacks():\n",
    "    return [\n",
    "        EarlyStopping(monitor=MONITOR_MET, patience=PATIENCE_ES, verbose=0, restore_best_weights=True),\n",
    "        ModelCheckpoint(MODEL_PATH,   monitor=MONITOR_MET, save_best_only=True, verbose=0)\n",
    "    ]\n",
    "\n",
    "def plot_history(history):\n",
    "    plt.figure(figsize=(12,4))\n",
    "\n",
    "    # Loss\n",
    "    plt.subplot(1,2,1)\n",
    "    plt.plot(history.history[\"loss\"], label=\"train\")\n",
    "    plt.plot(history.history[MONITOR_MET], label=\"val\")\n",
    "    plt.title(\"Loss\")\n",
    "    plt.legend()\n",
    "\n",
    "    # Accuracy\n",
    "    plt.subplot(1,2,2)\n",
    "    plt.plot(history.history[\"accuracy\"], label=\"train\")\n",
    "    plt.plot(history.history[\"val_accuracy\"], label=\"val\")\n",
    "    plt.title(\"Accuracy\")\n",
    "    plt.legend()\n",
    "\n",
    "    plt.show()\n",
    "\n",
    "def evaluate_model(model, x_test, y_test):\n",
    "    loss, acc = model.evaluate(x_test, y_test, verbose=0)\n",
    "    print(f\"Acurácia final no test set: {acc:.4f}\")\n",
    "    return loss, acc\n",
    "\n",
    "def export_tflite(model, filename=TFLITE_PATH):\n",
    "    print(f\"Convertendo modelo para TFLite em `{filename}`...\")\n",
    "    converter = tf.lite.TFLiteConverter.from_keras_model(model)\n",
    "    tflite_model = converter.convert()\n",
    "    with open(filename, \"wb\") as f:\n",
    "        f.write(tflite_model)\n",
    "    print(\"✅ Export concluído.\")\n",
    "    #return tflite_model\n",
    "\n",
    "\n",
    "\n",
    "\n"
   ]
  },
  {
   "cell_type": "code",
   "execution_count": null,
   "metadata": {
    "execution": {
     "iopub.execute_input": "2025-07-09T20:09:19.125924Z",
     "iopub.status.busy": "2025-07-09T20:09:19.125047Z",
     "iopub.status.idle": "2025-07-09T20:09:19.132023Z",
     "shell.execute_reply": "2025-07-09T20:09:19.131150Z",
     "shell.execute_reply.started": "2025-07-09T20:09:19.125896Z"
    },
    "trusted": true
   },
   "outputs": [],
   "source": [
    "\n",
    "\n",
    "\n",
    "def create_balanced_model():\n",
    "    model = tf.keras.Sequential([\n",
    "        tf.keras.layers.Input(shape=(32, 32, 3)),\n",
    "\n",
    "        tf.keras.layers.Conv2D(32, (3, 3), padding='same', activation='relu'),\n",
    "        tf.keras.layers.BatchNormalization(),\n",
    "        tf.keras.layers.Conv2D(32, (3, 3), padding='same', activation='relu'), # Conv2D\n",
    "        tf.keras.layers.BatchNormalization(),\n",
    "        tf.keras.layers.MaxPooling2D(pool_size=(2, 2)),\n",
    "        tf.keras.layers.Dropout(0.25),\n",
    "\n",
    "        tf.keras.layers.Conv2D(64, (3, 3), padding='same', activation='relu'), # Conv2D\n",
    "        tf.keras.layers.BatchNormalization(),\n",
    "        tf.keras.layers.Conv2D(64, (3, 3), padding='same', activation='relu'), # Conv2D\n",
    "        tf.keras.layers.BatchNormalization(),\n",
    "        tf.keras.layers.MaxPooling2D(pool_size=(2, 2)),\n",
    "        tf.keras.layers.Dropout(0.2),\n",
    "\n",
    "        tf.keras.layers.Conv2D(128, (3, 3), padding='same', activation='relu'), # Conv2D\n",
    "        tf.keras.layers.BatchNormalization(),\n",
    "        tf.keras.layers.GlobalAveragePooling2D(),\n",
    "        tf.keras.layers.Dropout(0.3),\n",
    "\n",
    "        tf.keras.layers.Dense(10, activation='softmax')\n",
    "    ])\n",
    "    return model\n",
    "\n",
    "\n"
   ]
  },
  {
   "cell_type": "code",
   "execution_count": 5,
   "metadata": {
    "execution": {
     "iopub.execute_input": "2025-07-09T20:09:22.568902Z",
     "iopub.status.busy": "2025-07-09T20:09:22.568189Z",
     "iopub.status.idle": "2025-07-09T20:09:24.863194Z",
     "shell.execute_reply": "2025-07-09T20:09:24.862579Z",
     "shell.execute_reply.started": "2025-07-09T20:09:22.568876Z"
    },
    "trusted": true
   },
   "outputs": [
    {
     "name": "stdout",
     "output_type": "stream",
     "text": [
      "🔨 Criando e compilando modelo para CIFAR-10\n"
     ]
    },
    {
     "name": "stderr",
     "output_type": "stream",
     "text": [
      "I0000 00:00:1752091763.562862      35 gpu_device.cc:2022] Created device /job:localhost/replica:0/task:0/device:GPU:0 with 15513 MB memory:  -> device: 0, name: Tesla P100-PCIE-16GB, pci bus id: 0000:00:04.0, compute capability: 6.0\n"
     ]
    },
    {
     "data": {
      "text/html": [
       "<pre style=\"white-space:pre;overflow-x:auto;line-height:normal;font-family:Menlo,'DejaVu Sans Mono',consolas,'Courier New',monospace\"><span style=\"font-weight: bold\">Model: \"sequential\"</span>\n",
       "</pre>\n"
      ],
      "text/plain": [
       "\u001b[1mModel: \"sequential\"\u001b[0m\n"
      ]
     },
     "metadata": {},
     "output_type": "display_data"
    },
    {
     "data": {
      "text/html": [
       "<pre style=\"white-space:pre;overflow-x:auto;line-height:normal;font-family:Menlo,'DejaVu Sans Mono',consolas,'Courier New',monospace\">┏━━━━━━━━━━━━━━━━━━━━━━━━━━━━━━━━━━━━━━┳━━━━━━━━━━━━━━━━━━━━━━━━━━━━━┳━━━━━━━━━━━━━━━━━┓\n",
       "┃<span style=\"font-weight: bold\"> Layer (type)                         </span>┃<span style=\"font-weight: bold\"> Output Shape                </span>┃<span style=\"font-weight: bold\">         Param # </span>┃\n",
       "┡━━━━━━━━━━━━━━━━━━━━━━━━━━━━━━━━━━━━━━╇━━━━━━━━━━━━━━━━━━━━━━━━━━━━━╇━━━━━━━━━━━━━━━━━┩\n",
       "│ conv2d (<span style=\"color: #0087ff; text-decoration-color: #0087ff\">Conv2D</span>)                      │ (<span style=\"color: #00d7ff; text-decoration-color: #00d7ff\">None</span>, <span style=\"color: #00af00; text-decoration-color: #00af00\">32</span>, <span style=\"color: #00af00; text-decoration-color: #00af00\">32</span>, <span style=\"color: #00af00; text-decoration-color: #00af00\">32</span>)          │             <span style=\"color: #00af00; text-decoration-color: #00af00\">896</span> │\n",
       "├──────────────────────────────────────┼─────────────────────────────┼─────────────────┤\n",
       "│ batch_normalization                  │ (<span style=\"color: #00d7ff; text-decoration-color: #00d7ff\">None</span>, <span style=\"color: #00af00; text-decoration-color: #00af00\">32</span>, <span style=\"color: #00af00; text-decoration-color: #00af00\">32</span>, <span style=\"color: #00af00; text-decoration-color: #00af00\">32</span>)          │             <span style=\"color: #00af00; text-decoration-color: #00af00\">128</span> │\n",
       "│ (<span style=\"color: #0087ff; text-decoration-color: #0087ff\">BatchNormalization</span>)                 │                             │                 │\n",
       "├──────────────────────────────────────┼─────────────────────────────┼─────────────────┤\n",
       "│ conv2d_1 (<span style=\"color: #0087ff; text-decoration-color: #0087ff\">Conv2D</span>)                    │ (<span style=\"color: #00d7ff; text-decoration-color: #00d7ff\">None</span>, <span style=\"color: #00af00; text-decoration-color: #00af00\">32</span>, <span style=\"color: #00af00; text-decoration-color: #00af00\">32</span>, <span style=\"color: #00af00; text-decoration-color: #00af00\">32</span>)          │           <span style=\"color: #00af00; text-decoration-color: #00af00\">9,248</span> │\n",
       "├──────────────────────────────────────┼─────────────────────────────┼─────────────────┤\n",
       "│ batch_normalization_1                │ (<span style=\"color: #00d7ff; text-decoration-color: #00d7ff\">None</span>, <span style=\"color: #00af00; text-decoration-color: #00af00\">32</span>, <span style=\"color: #00af00; text-decoration-color: #00af00\">32</span>, <span style=\"color: #00af00; text-decoration-color: #00af00\">32</span>)          │             <span style=\"color: #00af00; text-decoration-color: #00af00\">128</span> │\n",
       "│ (<span style=\"color: #0087ff; text-decoration-color: #0087ff\">BatchNormalization</span>)                 │                             │                 │\n",
       "├──────────────────────────────────────┼─────────────────────────────┼─────────────────┤\n",
       "│ max_pooling2d (<span style=\"color: #0087ff; text-decoration-color: #0087ff\">MaxPooling2D</span>)         │ (<span style=\"color: #00d7ff; text-decoration-color: #00d7ff\">None</span>, <span style=\"color: #00af00; text-decoration-color: #00af00\">16</span>, <span style=\"color: #00af00; text-decoration-color: #00af00\">16</span>, <span style=\"color: #00af00; text-decoration-color: #00af00\">32</span>)          │               <span style=\"color: #00af00; text-decoration-color: #00af00\">0</span> │\n",
       "├──────────────────────────────────────┼─────────────────────────────┼─────────────────┤\n",
       "│ dropout (<span style=\"color: #0087ff; text-decoration-color: #0087ff\">Dropout</span>)                    │ (<span style=\"color: #00d7ff; text-decoration-color: #00d7ff\">None</span>, <span style=\"color: #00af00; text-decoration-color: #00af00\">16</span>, <span style=\"color: #00af00; text-decoration-color: #00af00\">16</span>, <span style=\"color: #00af00; text-decoration-color: #00af00\">32</span>)          │               <span style=\"color: #00af00; text-decoration-color: #00af00\">0</span> │\n",
       "├──────────────────────────────────────┼─────────────────────────────┼─────────────────┤\n",
       "│ conv2d_2 (<span style=\"color: #0087ff; text-decoration-color: #0087ff\">Conv2D</span>)                    │ (<span style=\"color: #00d7ff; text-decoration-color: #00d7ff\">None</span>, <span style=\"color: #00af00; text-decoration-color: #00af00\">16</span>, <span style=\"color: #00af00; text-decoration-color: #00af00\">16</span>, <span style=\"color: #00af00; text-decoration-color: #00af00\">64</span>)          │          <span style=\"color: #00af00; text-decoration-color: #00af00\">18,496</span> │\n",
       "├──────────────────────────────────────┼─────────────────────────────┼─────────────────┤\n",
       "│ batch_normalization_2                │ (<span style=\"color: #00d7ff; text-decoration-color: #00d7ff\">None</span>, <span style=\"color: #00af00; text-decoration-color: #00af00\">16</span>, <span style=\"color: #00af00; text-decoration-color: #00af00\">16</span>, <span style=\"color: #00af00; text-decoration-color: #00af00\">64</span>)          │             <span style=\"color: #00af00; text-decoration-color: #00af00\">256</span> │\n",
       "│ (<span style=\"color: #0087ff; text-decoration-color: #0087ff\">BatchNormalization</span>)                 │                             │                 │\n",
       "├──────────────────────────────────────┼─────────────────────────────┼─────────────────┤\n",
       "│ conv2d_3 (<span style=\"color: #0087ff; text-decoration-color: #0087ff\">Conv2D</span>)                    │ (<span style=\"color: #00d7ff; text-decoration-color: #00d7ff\">None</span>, <span style=\"color: #00af00; text-decoration-color: #00af00\">16</span>, <span style=\"color: #00af00; text-decoration-color: #00af00\">16</span>, <span style=\"color: #00af00; text-decoration-color: #00af00\">64</span>)          │          <span style=\"color: #00af00; text-decoration-color: #00af00\">36,928</span> │\n",
       "├──────────────────────────────────────┼─────────────────────────────┼─────────────────┤\n",
       "│ batch_normalization_3                │ (<span style=\"color: #00d7ff; text-decoration-color: #00d7ff\">None</span>, <span style=\"color: #00af00; text-decoration-color: #00af00\">16</span>, <span style=\"color: #00af00; text-decoration-color: #00af00\">16</span>, <span style=\"color: #00af00; text-decoration-color: #00af00\">64</span>)          │             <span style=\"color: #00af00; text-decoration-color: #00af00\">256</span> │\n",
       "│ (<span style=\"color: #0087ff; text-decoration-color: #0087ff\">BatchNormalization</span>)                 │                             │                 │\n",
       "├──────────────────────────────────────┼─────────────────────────────┼─────────────────┤\n",
       "│ max_pooling2d_1 (<span style=\"color: #0087ff; text-decoration-color: #0087ff\">MaxPooling2D</span>)       │ (<span style=\"color: #00d7ff; text-decoration-color: #00d7ff\">None</span>, <span style=\"color: #00af00; text-decoration-color: #00af00\">8</span>, <span style=\"color: #00af00; text-decoration-color: #00af00\">8</span>, <span style=\"color: #00af00; text-decoration-color: #00af00\">64</span>)            │               <span style=\"color: #00af00; text-decoration-color: #00af00\">0</span> │\n",
       "├──────────────────────────────────────┼─────────────────────────────┼─────────────────┤\n",
       "│ dropout_1 (<span style=\"color: #0087ff; text-decoration-color: #0087ff\">Dropout</span>)                  │ (<span style=\"color: #00d7ff; text-decoration-color: #00d7ff\">None</span>, <span style=\"color: #00af00; text-decoration-color: #00af00\">8</span>, <span style=\"color: #00af00; text-decoration-color: #00af00\">8</span>, <span style=\"color: #00af00; text-decoration-color: #00af00\">64</span>)            │               <span style=\"color: #00af00; text-decoration-color: #00af00\">0</span> │\n",
       "├──────────────────────────────────────┼─────────────────────────────┼─────────────────┤\n",
       "│ conv2d_4 (<span style=\"color: #0087ff; text-decoration-color: #0087ff\">Conv2D</span>)                    │ (<span style=\"color: #00d7ff; text-decoration-color: #00d7ff\">None</span>, <span style=\"color: #00af00; text-decoration-color: #00af00\">8</span>, <span style=\"color: #00af00; text-decoration-color: #00af00\">8</span>, <span style=\"color: #00af00; text-decoration-color: #00af00\">128</span>)           │          <span style=\"color: #00af00; text-decoration-color: #00af00\">73,856</span> │\n",
       "├──────────────────────────────────────┼─────────────────────────────┼─────────────────┤\n",
       "│ batch_normalization_4                │ (<span style=\"color: #00d7ff; text-decoration-color: #00d7ff\">None</span>, <span style=\"color: #00af00; text-decoration-color: #00af00\">8</span>, <span style=\"color: #00af00; text-decoration-color: #00af00\">8</span>, <span style=\"color: #00af00; text-decoration-color: #00af00\">128</span>)           │             <span style=\"color: #00af00; text-decoration-color: #00af00\">512</span> │\n",
       "│ (<span style=\"color: #0087ff; text-decoration-color: #0087ff\">BatchNormalization</span>)                 │                             │                 │\n",
       "├──────────────────────────────────────┼─────────────────────────────┼─────────────────┤\n",
       "│ global_average_pooling2d             │ (<span style=\"color: #00d7ff; text-decoration-color: #00d7ff\">None</span>, <span style=\"color: #00af00; text-decoration-color: #00af00\">128</span>)                 │               <span style=\"color: #00af00; text-decoration-color: #00af00\">0</span> │\n",
       "│ (<span style=\"color: #0087ff; text-decoration-color: #0087ff\">GlobalAveragePooling2D</span>)             │                             │                 │\n",
       "├──────────────────────────────────────┼─────────────────────────────┼─────────────────┤\n",
       "│ dropout_2 (<span style=\"color: #0087ff; text-decoration-color: #0087ff\">Dropout</span>)                  │ (<span style=\"color: #00d7ff; text-decoration-color: #00d7ff\">None</span>, <span style=\"color: #00af00; text-decoration-color: #00af00\">128</span>)                 │               <span style=\"color: #00af00; text-decoration-color: #00af00\">0</span> │\n",
       "├──────────────────────────────────────┼─────────────────────────────┼─────────────────┤\n",
       "│ dense (<span style=\"color: #0087ff; text-decoration-color: #0087ff\">Dense</span>)                        │ (<span style=\"color: #00d7ff; text-decoration-color: #00d7ff\">None</span>, <span style=\"color: #00af00; text-decoration-color: #00af00\">10</span>)                  │           <span style=\"color: #00af00; text-decoration-color: #00af00\">1,290</span> │\n",
       "└──────────────────────────────────────┴─────────────────────────────┴─────────────────┘\n",
       "</pre>\n"
      ],
      "text/plain": [
       "┏━━━━━━━━━━━━━━━━━━━━━━━━━━━━━━━━━━━━━━┳━━━━━━━━━━━━━━━━━━━━━━━━━━━━━┳━━━━━━━━━━━━━━━━━┓\n",
       "┃\u001b[1m \u001b[0m\u001b[1mLayer (type)                        \u001b[0m\u001b[1m \u001b[0m┃\u001b[1m \u001b[0m\u001b[1mOutput Shape               \u001b[0m\u001b[1m \u001b[0m┃\u001b[1m \u001b[0m\u001b[1m        Param #\u001b[0m\u001b[1m \u001b[0m┃\n",
       "┡━━━━━━━━━━━━━━━━━━━━━━━━━━━━━━━━━━━━━━╇━━━━━━━━━━━━━━━━━━━━━━━━━━━━━╇━━━━━━━━━━━━━━━━━┩\n",
       "│ conv2d (\u001b[38;5;33mConv2D\u001b[0m)                      │ (\u001b[38;5;45mNone\u001b[0m, \u001b[38;5;34m32\u001b[0m, \u001b[38;5;34m32\u001b[0m, \u001b[38;5;34m32\u001b[0m)          │             \u001b[38;5;34m896\u001b[0m │\n",
       "├──────────────────────────────────────┼─────────────────────────────┼─────────────────┤\n",
       "│ batch_normalization                  │ (\u001b[38;5;45mNone\u001b[0m, \u001b[38;5;34m32\u001b[0m, \u001b[38;5;34m32\u001b[0m, \u001b[38;5;34m32\u001b[0m)          │             \u001b[38;5;34m128\u001b[0m │\n",
       "│ (\u001b[38;5;33mBatchNormalization\u001b[0m)                 │                             │                 │\n",
       "├──────────────────────────────────────┼─────────────────────────────┼─────────────────┤\n",
       "│ conv2d_1 (\u001b[38;5;33mConv2D\u001b[0m)                    │ (\u001b[38;5;45mNone\u001b[0m, \u001b[38;5;34m32\u001b[0m, \u001b[38;5;34m32\u001b[0m, \u001b[38;5;34m32\u001b[0m)          │           \u001b[38;5;34m9,248\u001b[0m │\n",
       "├──────────────────────────────────────┼─────────────────────────────┼─────────────────┤\n",
       "│ batch_normalization_1                │ (\u001b[38;5;45mNone\u001b[0m, \u001b[38;5;34m32\u001b[0m, \u001b[38;5;34m32\u001b[0m, \u001b[38;5;34m32\u001b[0m)          │             \u001b[38;5;34m128\u001b[0m │\n",
       "│ (\u001b[38;5;33mBatchNormalization\u001b[0m)                 │                             │                 │\n",
       "├──────────────────────────────────────┼─────────────────────────────┼─────────────────┤\n",
       "│ max_pooling2d (\u001b[38;5;33mMaxPooling2D\u001b[0m)         │ (\u001b[38;5;45mNone\u001b[0m, \u001b[38;5;34m16\u001b[0m, \u001b[38;5;34m16\u001b[0m, \u001b[38;5;34m32\u001b[0m)          │               \u001b[38;5;34m0\u001b[0m │\n",
       "├──────────────────────────────────────┼─────────────────────────────┼─────────────────┤\n",
       "│ dropout (\u001b[38;5;33mDropout\u001b[0m)                    │ (\u001b[38;5;45mNone\u001b[0m, \u001b[38;5;34m16\u001b[0m, \u001b[38;5;34m16\u001b[0m, \u001b[38;5;34m32\u001b[0m)          │               \u001b[38;5;34m0\u001b[0m │\n",
       "├──────────────────────────────────────┼─────────────────────────────┼─────────────────┤\n",
       "│ conv2d_2 (\u001b[38;5;33mConv2D\u001b[0m)                    │ (\u001b[38;5;45mNone\u001b[0m, \u001b[38;5;34m16\u001b[0m, \u001b[38;5;34m16\u001b[0m, \u001b[38;5;34m64\u001b[0m)          │          \u001b[38;5;34m18,496\u001b[0m │\n",
       "├──────────────────────────────────────┼─────────────────────────────┼─────────────────┤\n",
       "│ batch_normalization_2                │ (\u001b[38;5;45mNone\u001b[0m, \u001b[38;5;34m16\u001b[0m, \u001b[38;5;34m16\u001b[0m, \u001b[38;5;34m64\u001b[0m)          │             \u001b[38;5;34m256\u001b[0m │\n",
       "│ (\u001b[38;5;33mBatchNormalization\u001b[0m)                 │                             │                 │\n",
       "├──────────────────────────────────────┼─────────────────────────────┼─────────────────┤\n",
       "│ conv2d_3 (\u001b[38;5;33mConv2D\u001b[0m)                    │ (\u001b[38;5;45mNone\u001b[0m, \u001b[38;5;34m16\u001b[0m, \u001b[38;5;34m16\u001b[0m, \u001b[38;5;34m64\u001b[0m)          │          \u001b[38;5;34m36,928\u001b[0m │\n",
       "├──────────────────────────────────────┼─────────────────────────────┼─────────────────┤\n",
       "│ batch_normalization_3                │ (\u001b[38;5;45mNone\u001b[0m, \u001b[38;5;34m16\u001b[0m, \u001b[38;5;34m16\u001b[0m, \u001b[38;5;34m64\u001b[0m)          │             \u001b[38;5;34m256\u001b[0m │\n",
       "│ (\u001b[38;5;33mBatchNormalization\u001b[0m)                 │                             │                 │\n",
       "├──────────────────────────────────────┼─────────────────────────────┼─────────────────┤\n",
       "│ max_pooling2d_1 (\u001b[38;5;33mMaxPooling2D\u001b[0m)       │ (\u001b[38;5;45mNone\u001b[0m, \u001b[38;5;34m8\u001b[0m, \u001b[38;5;34m8\u001b[0m, \u001b[38;5;34m64\u001b[0m)            │               \u001b[38;5;34m0\u001b[0m │\n",
       "├──────────────────────────────────────┼─────────────────────────────┼─────────────────┤\n",
       "│ dropout_1 (\u001b[38;5;33mDropout\u001b[0m)                  │ (\u001b[38;5;45mNone\u001b[0m, \u001b[38;5;34m8\u001b[0m, \u001b[38;5;34m8\u001b[0m, \u001b[38;5;34m64\u001b[0m)            │               \u001b[38;5;34m0\u001b[0m │\n",
       "├──────────────────────────────────────┼─────────────────────────────┼─────────────────┤\n",
       "│ conv2d_4 (\u001b[38;5;33mConv2D\u001b[0m)                    │ (\u001b[38;5;45mNone\u001b[0m, \u001b[38;5;34m8\u001b[0m, \u001b[38;5;34m8\u001b[0m, \u001b[38;5;34m128\u001b[0m)           │          \u001b[38;5;34m73,856\u001b[0m │\n",
       "├──────────────────────────────────────┼─────────────────────────────┼─────────────────┤\n",
       "│ batch_normalization_4                │ (\u001b[38;5;45mNone\u001b[0m, \u001b[38;5;34m8\u001b[0m, \u001b[38;5;34m8\u001b[0m, \u001b[38;5;34m128\u001b[0m)           │             \u001b[38;5;34m512\u001b[0m │\n",
       "│ (\u001b[38;5;33mBatchNormalization\u001b[0m)                 │                             │                 │\n",
       "├──────────────────────────────────────┼─────────────────────────────┼─────────────────┤\n",
       "│ global_average_pooling2d             │ (\u001b[38;5;45mNone\u001b[0m, \u001b[38;5;34m128\u001b[0m)                 │               \u001b[38;5;34m0\u001b[0m │\n",
       "│ (\u001b[38;5;33mGlobalAveragePooling2D\u001b[0m)             │                             │                 │\n",
       "├──────────────────────────────────────┼─────────────────────────────┼─────────────────┤\n",
       "│ dropout_2 (\u001b[38;5;33mDropout\u001b[0m)                  │ (\u001b[38;5;45mNone\u001b[0m, \u001b[38;5;34m128\u001b[0m)                 │               \u001b[38;5;34m0\u001b[0m │\n",
       "├──────────────────────────────────────┼─────────────────────────────┼─────────────────┤\n",
       "│ dense (\u001b[38;5;33mDense\u001b[0m)                        │ (\u001b[38;5;45mNone\u001b[0m, \u001b[38;5;34m10\u001b[0m)                  │           \u001b[38;5;34m1,290\u001b[0m │\n",
       "└──────────────────────────────────────┴─────────────────────────────┴─────────────────┘\n"
      ]
     },
     "metadata": {},
     "output_type": "display_data"
    },
    {
     "data": {
      "text/html": [
       "<pre style=\"white-space:pre;overflow-x:auto;line-height:normal;font-family:Menlo,'DejaVu Sans Mono',consolas,'Courier New',monospace\"><span style=\"font-weight: bold\"> Total params: </span><span style=\"color: #00af00; text-decoration-color: #00af00\">141,994</span> (554.66 KB)\n",
       "</pre>\n"
      ],
      "text/plain": [
       "\u001b[1m Total params: \u001b[0m\u001b[38;5;34m141,994\u001b[0m (554.66 KB)\n"
      ]
     },
     "metadata": {},
     "output_type": "display_data"
    },
    {
     "data": {
      "text/html": [
       "<pre style=\"white-space:pre;overflow-x:auto;line-height:normal;font-family:Menlo,'DejaVu Sans Mono',consolas,'Courier New',monospace\"><span style=\"font-weight: bold\"> Trainable params: </span><span style=\"color: #00af00; text-decoration-color: #00af00\">141,354</span> (552.16 KB)\n",
       "</pre>\n"
      ],
      "text/plain": [
       "\u001b[1m Trainable params: \u001b[0m\u001b[38;5;34m141,354\u001b[0m (552.16 KB)\n"
      ]
     },
     "metadata": {},
     "output_type": "display_data"
    },
    {
     "data": {
      "text/html": [
       "<pre style=\"white-space:pre;overflow-x:auto;line-height:normal;font-family:Menlo,'DejaVu Sans Mono',consolas,'Courier New',monospace\"><span style=\"font-weight: bold\"> Non-trainable params: </span><span style=\"color: #00af00; text-decoration-color: #00af00\">640</span> (2.50 KB)\n",
       "</pre>\n"
      ],
      "text/plain": [
       "\u001b[1m Non-trainable params: \u001b[0m\u001b[38;5;34m640\u001b[0m (2.50 KB)\n"
      ]
     },
     "metadata": {},
     "output_type": "display_data"
    }
   ],
   "source": [
    "# 3. Orquestração do pipeline CIFAR-10 em uma única célula\n",
    "\n",
    "print(\"🔨 Criando e compilando modelo para CIFAR-10\")\n",
    "model = create_balanced_model()\n",
    "model.compile(\n",
    "    optimizer=\"adam\",\n",
    "    loss=\"sparse_categorical_crossentropy\",\n",
    "    metrics=[\"accuracy\"]\n",
    ")\n",
    "model.summary()\n",
    "\n"
   ]
  },
  {
   "cell_type": "code",
   "execution_count": 6,
   "metadata": {
    "execution": {
     "iopub.execute_input": "2025-07-09T20:09:35.860494Z",
     "iopub.status.busy": "2025-07-09T20:09:35.859795Z",
     "iopub.status.idle": "2025-07-09T20:11:28.148029Z",
     "shell.execute_reply": "2025-07-09T20:11:28.147153Z",
     "shell.execute_reply.started": "2025-07-09T20:09:35.860473Z"
    },
    "trusted": true
   },
   "outputs": [
    {
     "name": "stdout",
     "output_type": "stream",
     "text": [
      "\n",
      "🚂 Iniciando treino por 30 epochs (batch size=128)\n",
      "Epoch 1/30\n"
     ]
    },
    {
     "name": "stderr",
     "output_type": "stream",
     "text": [
      "WARNING: All log messages before absl::InitializeLog() is called are written to STDERR\n",
      "I0000 00:00:1752091782.755479      95 service.cc:148] XLA service 0x7edafc0375b0 initialized for platform CUDA (this does not guarantee that XLA will be used). Devices:\n",
      "I0000 00:00:1752091782.756151      95 service.cc:156]   StreamExecutor device (0): Tesla P100-PCIE-16GB, Compute Capability 6.0\n",
      "I0000 00:00:1752091783.371794      95 cuda_dnn.cc:529] Loaded cuDNN version 90300\n"
     ]
    },
    {
     "name": "stdout",
     "output_type": "stream",
     "text": [
      "\u001b[1m 21/352\u001b[0m \u001b[32m━\u001b[0m\u001b[37m━━━━━━━━━━━━━━━━━━━\u001b[0m \u001b[1m2s\u001b[0m 8ms/step - accuracy: 0.2105 - loss: 2.1024"
     ]
    },
    {
     "name": "stderr",
     "output_type": "stream",
     "text": [
      "I0000 00:00:1752091788.140576      95 device_compiler.h:188] Compiled cluster using XLA!  This line is logged at most once for the lifetime of the process.\n"
     ]
    },
    {
     "name": "stdout",
     "output_type": "stream",
     "text": [
      "\u001b[1m352/352\u001b[0m \u001b[32m━━━━━━━━━━━━━━━━━━━━\u001b[0m\u001b[37m\u001b[0m \u001b[1m19s\u001b[0m 25ms/step - accuracy: 0.4117 - loss: 1.6116 - val_accuracy: 0.1188 - val_loss: 3.8755\n",
      "Epoch 2/30\n",
      "\u001b[1m352/352\u001b[0m \u001b[32m━━━━━━━━━━━━━━━━━━━━\u001b[0m\u001b[37m\u001b[0m \u001b[1m3s\u001b[0m 8ms/step - accuracy: 0.6190 - loss: 1.0794 - val_accuracy: 0.5872 - val_loss: 1.1389\n",
      "Epoch 3/30\n",
      "\u001b[1m352/352\u001b[0m \u001b[32m━━━━━━━━━━━━━━━━━━━━\u001b[0m\u001b[37m\u001b[0m \u001b[1m3s\u001b[0m 8ms/step - accuracy: 0.6709 - loss: 0.9345 - val_accuracy: 0.6356 - val_loss: 1.0769\n",
      "Epoch 4/30\n",
      "\u001b[1m352/352\u001b[0m \u001b[32m━━━━━━━━━━━━━━━━━━━━\u001b[0m\u001b[37m\u001b[0m \u001b[1m3s\u001b[0m 8ms/step - accuracy: 0.7056 - loss: 0.8351 - val_accuracy: 0.7128 - val_loss: 0.8291\n",
      "Epoch 5/30\n",
      "\u001b[1m352/352\u001b[0m \u001b[32m━━━━━━━━━━━━━━━━━━━━\u001b[0m\u001b[37m\u001b[0m \u001b[1m3s\u001b[0m 8ms/step - accuracy: 0.7345 - loss: 0.7594 - val_accuracy: 0.7100 - val_loss: 0.8497\n",
      "Epoch 6/30\n",
      "\u001b[1m352/352\u001b[0m \u001b[32m━━━━━━━━━━━━━━━━━━━━\u001b[0m\u001b[37m\u001b[0m \u001b[1m3s\u001b[0m 8ms/step - accuracy: 0.7499 - loss: 0.7073 - val_accuracy: 0.7598 - val_loss: 0.6972\n",
      "Epoch 7/30\n",
      "\u001b[1m352/352\u001b[0m \u001b[32m━━━━━━━━━━━━━━━━━━━━\u001b[0m\u001b[37m\u001b[0m \u001b[1m3s\u001b[0m 9ms/step - accuracy: 0.7700 - loss: 0.6633 - val_accuracy: 0.7708 - val_loss: 0.6718\n",
      "Epoch 8/30\n",
      "\u001b[1m352/352\u001b[0m \u001b[32m━━━━━━━━━━━━━━━━━━━━\u001b[0m\u001b[37m\u001b[0m \u001b[1m3s\u001b[0m 8ms/step - accuracy: 0.7864 - loss: 0.6201 - val_accuracy: 0.7540 - val_loss: 0.6971\n",
      "Epoch 9/30\n",
      "\u001b[1m352/352\u001b[0m \u001b[32m━━━━━━━━━━━━━━━━━━━━\u001b[0m\u001b[37m\u001b[0m \u001b[1m3s\u001b[0m 8ms/step - accuracy: 0.7952 - loss: 0.5918 - val_accuracy: 0.7954 - val_loss: 0.5878\n",
      "Epoch 10/30\n",
      "\u001b[1m352/352\u001b[0m \u001b[32m━━━━━━━━━━━━━━━━━━━━\u001b[0m\u001b[37m\u001b[0m \u001b[1m3s\u001b[0m 8ms/step - accuracy: 0.8088 - loss: 0.5562 - val_accuracy: 0.8028 - val_loss: 0.5775\n",
      "Epoch 11/30\n",
      "\u001b[1m352/352\u001b[0m \u001b[32m━━━━━━━━━━━━━━━━━━━━\u001b[0m\u001b[37m\u001b[0m \u001b[1m3s\u001b[0m 8ms/step - accuracy: 0.8138 - loss: 0.5377 - val_accuracy: 0.8084 - val_loss: 0.5550\n",
      "Epoch 12/30\n",
      "\u001b[1m352/352\u001b[0m \u001b[32m━━━━━━━━━━━━━━━━━━━━\u001b[0m\u001b[37m\u001b[0m \u001b[1m3s\u001b[0m 8ms/step - accuracy: 0.8222 - loss: 0.5156 - val_accuracy: 0.7978 - val_loss: 0.5906\n",
      "Epoch 13/30\n",
      "\u001b[1m352/352\u001b[0m \u001b[32m━━━━━━━━━━━━━━━━━━━━\u001b[0m\u001b[37m\u001b[0m \u001b[1m3s\u001b[0m 8ms/step - accuracy: 0.8223 - loss: 0.5067 - val_accuracy: 0.7946 - val_loss: 0.6075\n",
      "Epoch 14/30\n",
      "\u001b[1m352/352\u001b[0m \u001b[32m━━━━━━━━━━━━━━━━━━━━\u001b[0m\u001b[37m\u001b[0m \u001b[1m3s\u001b[0m 8ms/step - accuracy: 0.8290 - loss: 0.4873 - val_accuracy: 0.8024 - val_loss: 0.5629\n",
      "Epoch 15/30\n",
      "\u001b[1m352/352\u001b[0m \u001b[32m━━━━━━━━━━━━━━━━━━━━\u001b[0m\u001b[37m\u001b[0m \u001b[1m3s\u001b[0m 8ms/step - accuracy: 0.8392 - loss: 0.4703 - val_accuracy: 0.8060 - val_loss: 0.5727\n",
      "Epoch 16/30\n",
      "\u001b[1m352/352\u001b[0m \u001b[32m━━━━━━━━━━━━━━━━━━━━\u001b[0m\u001b[37m\u001b[0m \u001b[1m3s\u001b[0m 8ms/step - accuracy: 0.8393 - loss: 0.4632 - val_accuracy: 0.8114 - val_loss: 0.5534\n",
      "Epoch 17/30\n",
      "\u001b[1m352/352\u001b[0m \u001b[32m━━━━━━━━━━━━━━━━━━━━\u001b[0m\u001b[37m\u001b[0m \u001b[1m3s\u001b[0m 8ms/step - accuracy: 0.8435 - loss: 0.4426 - val_accuracy: 0.7968 - val_loss: 0.5876\n",
      "Epoch 18/30\n",
      "\u001b[1m352/352\u001b[0m \u001b[32m━━━━━━━━━━━━━━━━━━━━\u001b[0m\u001b[37m\u001b[0m \u001b[1m3s\u001b[0m 8ms/step - accuracy: 0.8505 - loss: 0.4308 - val_accuracy: 0.7962 - val_loss: 0.6098\n",
      "Epoch 19/30\n",
      "\u001b[1m352/352\u001b[0m \u001b[32m━━━━━━━━━━━━━━━━━━━━\u001b[0m\u001b[37m\u001b[0m \u001b[1m3s\u001b[0m 8ms/step - accuracy: 0.8497 - loss: 0.4274 - val_accuracy: 0.8234 - val_loss: 0.5300\n",
      "Epoch 20/30\n",
      "\u001b[1m352/352\u001b[0m \u001b[32m━━━━━━━━━━━━━━━━━━━━\u001b[0m\u001b[37m\u001b[0m \u001b[1m3s\u001b[0m 8ms/step - accuracy: 0.8541 - loss: 0.4165 - val_accuracy: 0.8252 - val_loss: 0.4972\n",
      "Epoch 21/30\n",
      "\u001b[1m352/352\u001b[0m \u001b[32m━━━━━━━━━━━━━━━━━━━━\u001b[0m\u001b[37m\u001b[0m \u001b[1m3s\u001b[0m 8ms/step - accuracy: 0.8598 - loss: 0.4015 - val_accuracy: 0.8106 - val_loss: 0.5539\n",
      "Epoch 22/30\n",
      "\u001b[1m352/352\u001b[0m \u001b[32m━━━━━━━━━━━━━━━━━━━━\u001b[0m\u001b[37m\u001b[0m \u001b[1m3s\u001b[0m 8ms/step - accuracy: 0.8593 - loss: 0.4023 - val_accuracy: 0.8166 - val_loss: 0.5525\n",
      "Epoch 23/30\n",
      "\u001b[1m352/352\u001b[0m \u001b[32m━━━━━━━━━━━━━━━━━━━━\u001b[0m\u001b[37m\u001b[0m \u001b[1m3s\u001b[0m 8ms/step - accuracy: 0.8676 - loss: 0.3853 - val_accuracy: 0.8372 - val_loss: 0.4852\n",
      "Epoch 24/30\n",
      "\u001b[1m352/352\u001b[0m \u001b[32m━━━━━━━━━━━━━━━━━━━━\u001b[0m\u001b[37m\u001b[0m \u001b[1m3s\u001b[0m 8ms/step - accuracy: 0.8674 - loss: 0.3825 - val_accuracy: 0.8402 - val_loss: 0.4783\n",
      "Epoch 25/30\n",
      "\u001b[1m352/352\u001b[0m \u001b[32m━━━━━━━━━━━━━━━━━━━━\u001b[0m\u001b[37m\u001b[0m \u001b[1m3s\u001b[0m 8ms/step - accuracy: 0.8663 - loss: 0.3859 - val_accuracy: 0.8064 - val_loss: 0.6020\n",
      "Epoch 26/30\n",
      "\u001b[1m352/352\u001b[0m \u001b[32m━━━━━━━━━━━━━━━━━━━━\u001b[0m\u001b[37m\u001b[0m \u001b[1m3s\u001b[0m 8ms/step - accuracy: 0.8668 - loss: 0.3768 - val_accuracy: 0.8280 - val_loss: 0.5244\n",
      "Epoch 27/30\n",
      "\u001b[1m352/352\u001b[0m \u001b[32m━━━━━━━━━━━━━━━━━━━━\u001b[0m\u001b[37m\u001b[0m \u001b[1m3s\u001b[0m 8ms/step - accuracy: 0.8709 - loss: 0.3656 - val_accuracy: 0.8488 - val_loss: 0.4508\n",
      "Epoch 28/30\n",
      "\u001b[1m352/352\u001b[0m \u001b[32m━━━━━━━━━━━━━━━━━━━━\u001b[0m\u001b[37m\u001b[0m \u001b[1m3s\u001b[0m 8ms/step - accuracy: 0.8724 - loss: 0.3618 - val_accuracy: 0.8402 - val_loss: 0.4759\n",
      "Epoch 29/30\n",
      "\u001b[1m352/352\u001b[0m \u001b[32m━━━━━━━━━━━━━━━━━━━━\u001b[0m\u001b[37m\u001b[0m \u001b[1m3s\u001b[0m 8ms/step - accuracy: 0.8746 - loss: 0.3537 - val_accuracy: 0.8476 - val_loss: 0.4595\n",
      "Epoch 30/30\n",
      "\u001b[1m352/352\u001b[0m \u001b[32m━━━━━━━━━━━━━━━━━━━━\u001b[0m\u001b[37m\u001b[0m \u001b[1m3s\u001b[0m 8ms/step - accuracy: 0.8770 - loss: 0.3448 - val_accuracy: 0.8444 - val_loss: 0.4628\n",
      "\n",
      "📊 Plotando curva de treino\n"
     ]
    },
    {
     "data": {
      "image/png": "[encoded data removed]",
      "text/plain": [
       "<Figure size 1200x400 with 2 Axes>"
      ]
     },
     "metadata": {},
     "output_type": "display_data"
    },
    {
     "name": "stdout",
     "output_type": "stream",
     "text": [
      "\n",
      "🔍 Avaliando no conjunto de teste\n",
      "Acurácia final no test set: 0.8428\n",
      "\n",
      "🛠 Exportando modelo para TFLite\n",
      "Convertendo modelo para TFLite em `cifar10_simple.tflite`...\n",
      "Saved artifact at '/tmp/tmp2wmsyddc'. The following endpoints are available:\n",
      "\n",
      "* Endpoint 'serve'\n",
      "  args_0 (POSITIONAL_ONLY): TensorSpec(shape=(None, 32, 32, 3), dtype=tf.float32, name='keras_tensor')\n",
      "Output Type:\n",
      "  TensorSpec(shape=(None, 10), dtype=tf.float32, name=None)\n",
      "Captures:\n",
      "  139483364561296: TensorSpec(shape=(), dtype=tf.resource, name=None)\n",
      "  139483364561680: TensorSpec(shape=(), dtype=tf.resource, name=None)\n",
      "  139483364563216: TensorSpec(shape=(), dtype=tf.resource, name=None)\n",
      "  139483364562640: TensorSpec(shape=(), dtype=tf.resource, name=None)\n",
      "  139483364563600: TensorSpec(shape=(), dtype=tf.resource, name=None)\n",
      "  139483364561488: TensorSpec(shape=(), dtype=tf.resource, name=None)\n",
      "  139483364562256: TensorSpec(shape=(), dtype=tf.resource, name=None)\n",
      "  139483364562832: TensorSpec(shape=(), dtype=tf.resource, name=None)\n",
      "  139483364564176: TensorSpec(shape=(), dtype=tf.resource, name=None)\n",
      "  139483364561872: TensorSpec(shape=(), dtype=tf.resource, name=None)\n",
      "  139483364564368: TensorSpec(shape=(), dtype=tf.resource, name=None)\n",
      "  139483364564752: TensorSpec(shape=(), dtype=tf.resource, name=None)\n",
      "  139483364566288: TensorSpec(shape=(), dtype=tf.resource, name=None)\n",
      "  139483364566864: TensorSpec(shape=(), dtype=tf.resource, name=None)\n",
      "  139483364567056: TensorSpec(shape=(), dtype=tf.resource, name=None)\n",
      "  139483364565904: TensorSpec(shape=(), dtype=tf.resource, name=None)\n",
      "  139483364563984: TensorSpec(shape=(), dtype=tf.resource, name=None)\n",
      "  139483364566672: TensorSpec(shape=(), dtype=tf.resource, name=None)\n",
      "  139483364565136: TensorSpec(shape=(), dtype=tf.resource, name=None)\n",
      "  139483364569744: TensorSpec(shape=(), dtype=tf.resource, name=None)\n",
      "  139483364570512: TensorSpec(shape=(), dtype=tf.resource, name=None)\n",
      "  139483364568976: TensorSpec(shape=(), dtype=tf.resource, name=None)\n",
      "  139483364570320: TensorSpec(shape=(), dtype=tf.resource, name=None)\n",
      "  139483364565520: TensorSpec(shape=(), dtype=tf.resource, name=None)\n",
      "  139483364572048: TensorSpec(shape=(), dtype=tf.resource, name=None)\n",
      "  139483364572624: TensorSpec(shape=(), dtype=tf.resource, name=None)\n",
      "  139483364570896: TensorSpec(shape=(), dtype=tf.resource, name=None)\n",
      "  139483364570128: TensorSpec(shape=(), dtype=tf.resource, name=None)\n",
      "  139483364567440: TensorSpec(shape=(), dtype=tf.resource, name=None)\n",
      "  139483364571664: TensorSpec(shape=(), dtype=tf.resource, name=None)\n",
      "  139483363197200: TensorSpec(shape=(), dtype=tf.resource, name=None)\n",
      "  139483363198736: TensorSpec(shape=(), dtype=tf.resource, name=None)\n",
      "✅ Export concluído.\n"
     ]
    },
    {
     "name": "stderr",
     "output_type": "stream",
     "text": [
      "W0000 00:00:1752091887.822455      35 tf_tfl_flatbuffer_helpers.cc:365] Ignored output_format.\n",
      "W0000 00:00:1752091887.822495      35 tf_tfl_flatbuffer_helpers.cc:368] Ignored drop_control_dependency.\n",
      "I0000 00:00:1752091887.838445      35 mlir_graph_optimization_pass.cc:401] MLIR V1 optimization pass is not enabled\n"
     ]
    }
   ],
   "source": [
    "print(f\"\\n🚂 Iniciando treino por {EPOCHS} epochs (batch size={BATCH_SIZE})\")\n",
    "history = model.fit(\n",
    "    x_train, y_train,\n",
    "    epochs=EPOCHS,\n",
    "    batch_size=BATCH_SIZE,\n",
    "    validation_split=VALID_SPLIT,\n",
    "    callbacks=get_callbacks(),\n",
    "    verbose=1\n",
    ")\n",
    "\n",
    "print(\"\\n📊 Plotando curva de treino\")\n",
    "plot_history(history)\n",
    "\n",
    "print(\"\\n🔍 Avaliando no conjunto de teste\")\n",
    "evaluate_model(model, x_test, y_test)\n",
    "\n",
    "print(\"\\n🛠 Exportando modelo para TFLite\")\n",
    "export_tflite(model, TFLITE_PATH)\n"
   ]
  },
  {
   "cell_type": "code",
   "execution_count": 7,
   "metadata": {
    "execution": {
     "iopub.execute_input": "2025-07-09T20:11:28.149850Z",
     "iopub.status.busy": "2025-07-09T20:11:28.149240Z",
     "iopub.status.idle": "2025-07-09T20:11:29.617504Z",
     "shell.execute_reply": "2025-07-09T20:11:29.616902Z",
     "shell.execute_reply.started": "2025-07-09T20:11:28.149829Z"
    },
    "trusted": true
   },
   "outputs": [
    {
     "name": "stdout",
     "output_type": "stream",
     "text": [
      "\n",
      "📊 Plotando curva de treino\n"
     ]
    },
    {
     "data": {
      "image/png": "[encoded data removed]",
      "text/plain": [
       "<Figure size 1200x400 with 2 Axes>"
      ]
     },
     "metadata": {},
     "output_type": "display_data"
    },
    {
     "name": "stdout",
     "output_type": "stream",
     "text": [
      "\n",
      "🔍 Avaliando no conjunto de teste\n",
      "Acurácia final no test set: 0.8428\n"
     ]
    },
    {
     "data": {
      "text/plain": [
       "(0.46825844049453735, 0.8428000211715698)"
      ]
     },
     "execution_count": 7,
     "metadata": {},
     "output_type": "execute_result"
    }
   ],
   "source": [
    "print(\"\\n📊 Plotando curva de treino\")\n",
    "plot_history(history)\n",
    "\n",
    "print(\"\\n🔍 Avaliando no conjunto de teste\")\n",
    "evaluate_model(model, x_test, y_test)"
   ]
  },
  {
   "cell_type": "markdown",
   "metadata": {},
   "source": [
    "# Quantizar modelo para int8"
   ]
  },
  {
   "cell_type": "code",
   "execution_count": 8,
   "metadata": {
    "execution": {
     "iopub.execute_input": "2025-07-09T20:12:38.710846Z",
     "iopub.status.busy": "2025-07-09T20:12:38.710544Z",
     "iopub.status.idle": "2025-07-09T20:12:38.719626Z",
     "shell.execute_reply": "2025-07-09T20:12:38.718739Z",
     "shell.execute_reply.started": "2025-07-09T20:12:38.710823Z"
    },
    "trusted": true
   },
   "outputs": [],
   "source": [
    "import tensorflow as tf\n",
    "import numpy as np\n",
    "import matplotlib.pyplot as plt\n",
    "import os\n",
    "\n",
    "CLASS_NAMES = [\n",
    "    \"airplane\", \"automobile\", \"bird\", \"cat\", \"deer\",\n",
    "    \"dog\", \"frog\", \"horse\", \"ship\", \"truck\"\n",
    "]\n",
    "QUANTIZED_MODEL_FILENAME = \"cifar10_simple_int8.tflite\"\n",
    "\n",
    "def convert_to_tflite_quantized(keras_model, representative_data, filename):\n",
    "    print(\"Converting to TFLite with full integer quantization...\")\n",
    "\n",
    "    def representative_dataset_gen():\n",
    "        for i in range(len(representative_data)):\n",
    "            yield [representative_data[i:i+1]]\n",
    "\n",
    "    converter = tf.lite.TFLiteConverter.from_keras_model(keras_model)\n",
    "    converter.optimizations = [tf.lite.Optimize.DEFAULT]\n",
    "    converter.representative_dataset = representative_dataset_gen\n",
    "    converter.target_spec.supported_ops = [tf.lite.OpsSet.TFLITE_BUILTINS_INT8]\n",
    "    converter.inference_input_type = tf.int8\n",
    "    converter.inference_output_type = tf.int8\n",
    "\n",
    "    tflite_quant_model = converter.convert()\n",
    "\n",
    "    with open(filename, \"wb\") as f:\n",
    "        f.write(tflite_quant_model)\n",
    "\n",
    "    size_kb = os.path.getsize(filename) / 1024\n",
    "    print(f\"Quantized model saved to {filename} ({size_kb:.1f} KB)\")\n",
    "    return tflite_quant_model\n",
    "\n",
    "def run_quantized_inference(tflite_model_content, float_image_sample):\n",
    "    interpreter = tf.lite.Interpreter(model_content=tflite_model_content)\n",
    "    interpreter.allocate_tensors()\n",
    "\n",
    "    input_details = interpreter.get_input_details()[0]\n",
    "    output_details = interpreter.get_output_details()[0]\n",
    "\n",
    "    scale, zero_point = input_details[\"quantization\"]\n",
    "    quantized_input = (float_image_sample / scale + zero_point).astype(input_details[\"dtype\"])\n",
    "\n",
    "    interpreter.set_tensor(input_details[\"index\"], quantized_input)\n",
    "    interpreter.invoke()\n",
    "\n",
    "    quantized_output = interpreter.get_tensor(output_details[\"index\"])\n",
    "    out_scale, out_zero_point = output_details[\"quantization\"]\n",
    "    float_output = (quantized_output.astype(np.float32) - out_zero_point) * out_scale\n",
    "\n",
    "    predicted_label = np.argmax(float_output)\n",
    "    return predicted_label\n",
    "\n",
    "def plot_prediction(image, true_name, pred_name):\n",
    "    plt.figure(figsize=(4, 4))\n",
    "    plt.imshow(image)\n",
    "    plt.title(f\"True: {true_name}\\nPredicted: {pred_name}\")\n",
    "    plt.axis('off')\n",
    "    plt.show()\n",
    "\n"
   ]
  },
  {
   "cell_type": "code",
   "execution_count": 10,
   "metadata": {
    "execution": {
     "iopub.execute_input": "2025-07-09T20:13:16.493599Z",
     "iopub.status.busy": "2025-07-09T20:13:16.493281Z",
     "iopub.status.idle": "2025-07-09T20:13:23.513445Z",
     "shell.execute_reply": "2025-07-09T20:13:23.512677Z",
     "shell.execute_reply.started": "2025-07-09T20:13:16.493578Z"
    },
    "trusted": true
   },
   "outputs": [
    {
     "name": "stdout",
     "output_type": "stream",
     "text": [
      "Converting to TFLite with full integer quantization...\n",
      "Saved artifact at '/tmp/tmpxjy0pzy_'. The following endpoints are available:\n",
      "\n",
      "* Endpoint 'serve'\n",
      "  args_0 (POSITIONAL_ONLY): TensorSpec(shape=(None, 32, 32, 3), dtype=tf.float32, name='input_layer')\n",
      "Output Type:\n",
      "  TensorSpec(shape=(None, 10), dtype=tf.float32, name=None)\n",
      "Captures:\n",
      "  139479247078800: TensorSpec(shape=(), dtype=tf.resource, name=None)\n",
      "  139479247080528: TensorSpec(shape=(), dtype=tf.resource, name=None)\n",
      "  139479247078992: TensorSpec(shape=(), dtype=tf.resource, name=None)\n",
      "  139479247081104: TensorSpec(shape=(), dtype=tf.resource, name=None)\n",
      "  139479247078608: TensorSpec(shape=(), dtype=tf.resource, name=None)\n",
      "  139479247080336: TensorSpec(shape=(), dtype=tf.resource, name=None)\n",
      "  139479247081488: TensorSpec(shape=(), dtype=tf.resource, name=None)\n",
      "  139479247082832: TensorSpec(shape=(), dtype=tf.resource, name=None)\n",
      "  139479247082256: TensorSpec(shape=(), dtype=tf.resource, name=None)\n",
      "  139479247083408: TensorSpec(shape=(), dtype=tf.resource, name=None)\n",
      "  139479247082064: TensorSpec(shape=(), dtype=tf.resource, name=None)\n",
      "  139479247082640: TensorSpec(shape=(), dtype=tf.resource, name=None)\n",
      "  139479247081872: TensorSpec(shape=(), dtype=tf.resource, name=None)\n",
      "  139479247085712: TensorSpec(shape=(), dtype=tf.resource, name=None)\n",
      "  139479247079568: TensorSpec(shape=(), dtype=tf.resource, name=None)\n",
      "  139479247086288: TensorSpec(shape=(), dtype=tf.resource, name=None)\n",
      "  139479247084560: TensorSpec(shape=(), dtype=tf.resource, name=None)\n",
      "  139479247085520: TensorSpec(shape=(), dtype=tf.resource, name=None)\n",
      "  139479247087440: TensorSpec(shape=(), dtype=tf.resource, name=None)\n",
      "  139479247088208: TensorSpec(shape=(), dtype=tf.resource, name=None)\n",
      "  139479247085328: TensorSpec(shape=(), dtype=tf.resource, name=None)\n",
      "  139479247088784: TensorSpec(shape=(), dtype=tf.resource, name=None)\n",
      "  139479247086672: TensorSpec(shape=(), dtype=tf.resource, name=None)\n",
      "  139479247088016: TensorSpec(shape=(), dtype=tf.resource, name=None)\n",
      "  139479247087824: TensorSpec(shape=(), dtype=tf.resource, name=None)\n",
      "  139479247090896: TensorSpec(shape=(), dtype=tf.resource, name=None)\n",
      "  139479247086096: TensorSpec(shape=(), dtype=tf.resource, name=None)\n",
      "  139479247091472: TensorSpec(shape=(), dtype=tf.resource, name=None)\n",
      "  139479247087632: TensorSpec(shape=(), dtype=tf.resource, name=None)\n",
      "  139479247090704: TensorSpec(shape=(), dtype=tf.resource, name=None)\n",
      "  139479247093392: TensorSpec(shape=(), dtype=tf.resource, name=None)\n",
      "  139479247093200: TensorSpec(shape=(), dtype=tf.resource, name=None)\n"
     ]
    },
    {
     "name": "stderr",
     "output_type": "stream",
     "text": [
      "W0000 00:00:1752092002.199897      35 tf_tfl_flatbuffer_helpers.cc:365] Ignored output_format.\n",
      "W0000 00:00:1752092002.199931      35 tf_tfl_flatbuffer_helpers.cc:368] Ignored drop_control_dependency.\n"
     ]
    },
    {
     "name": "stdout",
     "output_type": "stream",
     "text": [
      "Quantized model saved to cifar10_simple_int8.tflite (155.0 KB)\n",
      "\n",
      "Verifying inference with the INT8 model...\n",
      "True Class:      0 (airplane)\n",
      "Predicted Class: 0 (airplane)\n"
     ]
    },
    {
     "name": "stderr",
     "output_type": "stream",
     "text": [
      "fully_quantize: 0, inference_type: 6, input_inference_type: INT8, output_inference_type: INT8\n"
     ]
    },
    {
     "data": {
      "image/png": "[encoded data removed]",
      "text/plain": [
       "<Figure size 400x400 with 1 Axes>"
      ]
     },
     "metadata": {},
     "output_type": "display_data"
    }
   ],
   "source": [
    "model = tf.keras.models.load_model('/kaggle/working/best_cifar10_model.h5')\n",
    "\n",
    "(x_train, _), (x_test, y_test) = tf.keras.datasets.cifar10.load_data()\n",
    "x_train = x_train.astype(\"float32\") / 255.0\n",
    "x_test  = x_test.astype(\"float32\")  / 255.0\n",
    "\n",
    "representative_data = x_train[:200]\n",
    "tflite_model_content = convert_to_tflite_quantized(\n",
    "    keras_model=model,\n",
    "    representative_data=representative_data,\n",
    "    filename=QUANTIZED_MODEL_FILENAME\n",
    ")\n",
    "\n",
    "print(\"\\nVerifying inference with the INT8 model...\")\n",
    "test_index      = 10\n",
    "image_sample    = x_test[test_index:test_index+1]\n",
    "true_label      = int(y_test[test_index][0])\n",
    "true_name       = CLASS_NAMES[true_label]\n",
    "predicted_label = run_quantized_inference(tflite_model_content, image_sample)\n",
    "pred_name       = CLASS_NAMES[predicted_label]\n",
    "\n",
    "print(f\"True Class:      {true_label} ({true_name})\")\n",
    "print(f\"Predicted Class: {predicted_label} ({pred_name})\")\n",
    "plot_prediction(image_sample[0], true_name, pred_name)\n"
   ]
  },
  {
   "cell_type": "code",
   "execution_count": 11,
   "metadata": {
    "execution": {
     "iopub.execute_input": "2025-07-09T20:13:31.013566Z",
     "iopub.status.busy": "2025-07-09T20:13:31.013273Z",
     "iopub.status.idle": "2025-07-09T20:13:42.901294Z",
     "shell.execute_reply": "2025-07-09T20:13:42.900419Z",
     "shell.execute_reply.started": "2025-07-09T20:13:31.013544Z"
    },
    "trusted": true
   },
   "outputs": [
    {
     "name": "stdout",
     "output_type": "stream",
     "text": [
      "Modelo: cifar10_simple_int8.tflite\n",
      "Imagens de teste: 10000\n",
      "Acurácia final no dataset de teste: 0.7755\n"
     ]
    }
   ],
   "source": [
    "def evaluate_tflite_model(model_path, x_test, y_test):\n",
    "    if not os.path.exists(model_path):\n",
    "        print(f\"Erro: Arquivo do modelo não encontrado em '{model_path}'\")\n",
    "        return None\n",
    "\n",
    "    interpreter = tf.lite.Interpreter(model_path=model_path)\n",
    "    interpreter.allocate_tensors()\n",
    "\n",
    "    input_details = interpreter.get_input_details()[0]\n",
    "    output_details = interpreter.get_output_details()[0]\n",
    "\n",
    "    input_scale, input_zero_point = input_details[\"quantization\"]\n",
    "    output_scale, output_zero_point = output_details[\"quantization\"]\n",
    "    input_dtype = input_details[\"dtype\"]\n",
    "\n",
    "    correct_predictions = 0\n",
    "    total_images = len(x_test)\n",
    "\n",
    "    for i in range(total_images):\n",
    "        image = x_test[i]\n",
    "        true_label = y_test[i][0]\n",
    "\n",
    "        quantized_input = (image / input_scale) + input_zero_point\n",
    "        quantized_input = np.expand_dims(quantized_input, axis=0).astype(input_dtype)\n",
    "\n",
    "        interpreter.set_tensor(input_details['index'], quantized_input)\n",
    "        interpreter.invoke()\n",
    "\n",
    "        quantized_output = interpreter.get_tensor(output_details['index'])[0]\n",
    "        dequantized_output = (quantized_output.astype(np.float32) - output_zero_point) * output_scale\n",
    "\n",
    "        predicted_label = np.argmax(dequantized_output)\n",
    "\n",
    "        if predicted_label == true_label:\n",
    "            correct_predictions += 1\n",
    "\n",
    "    accuracy = correct_predictions / total_images\n",
    "    return accuracy\n",
    "\n",
    "TFLITE_MODEL_PATH = 'cifar10_simple_int8.tflite'\n",
    "\n",
    "(_, _), (x_test, y_test) = tf.keras.datasets.cifar10.load_data()\n",
    "x_test = x_test.astype(\"float32\") / 255.0\n",
    "\n",
    "final_accuracy = evaluate_tflite_model(\n",
    "    model_path=TFLITE_MODEL_PATH,\n",
    "    x_test=x_test,\n",
    "    y_test=y_test\n",
    ")\n",
    "\n",
    "if final_accuracy is not None:\n",
    "    print(f\"Modelo: {TFLITE_MODEL_PATH}\")\n",
    "    print(f\"Imagens de teste: {len(x_test)}\")\n",
    "    print(f\"Acurácia final no dataset de teste: {final_accuracy:.4f}\")"
   ]
  },
  {
   "cell_type": "code",
   "execution_count": 29,
   "metadata": {
    "execution": {
     "iopub.execute_input": "2025-07-09T20:19:07.806200Z",
     "iopub.status.busy": "2025-07-09T20:19:07.805462Z",
     "iopub.status.idle": "2025-07-09T20:19:07.884420Z",
     "shell.execute_reply": "2025-07-09T20:19:07.883603Z",
     "shell.execute_reply.started": "2025-07-09T20:19:07.806176Z"
    },
    "trusted": true
   },
   "outputs": [
    {
     "data": {
      "image/png": "[encoded data removed]",
      "text/plain": [
       "<Figure size 640x480 with 1 Axes>"
      ]
     },
     "metadata": {},
     "output_type": "display_data"
    },
    {
     "name": "stdout",
     "output_type": "stream",
     "text": [
      "Confiança: 0.988\n"
     ]
    }
   ],
   "source": [
    "import random\n",
    "import numpy as np\n",
    "import matplotlib.pyplot as plt\n",
    "\n",
    "# (Re)carrega o interpreter e detalhes—evita NameError\n",
    "interpreter = tf.lite.Interpreter(model_path=\"cifar10_simple_int8.tflite\")\n",
    "interpreter.allocate_tensors()\n",
    "input_details  = interpreter.get_input_details()[0]\n",
    "output_details = interpreter.get_output_details()[0]\n",
    "\n",
    "# extrai escala e zero-point\n",
    "in_scale, in_zp   = input_details[\"quantization\"]\n",
    "out_scale, out_zp = output_details[\"quantization\"]\n",
    "\n",
    "# escolhe amostra aleatória\n",
    "idx  = 14#random.randint(0, x_test.shape[0] - 1)\n",
    "img  = x_test[idx]\n",
    "true = y_test[idx]\n",
    "\n",
    "# quantiza entrada\n",
    "img_q = (img / in_scale + in_zp).astype(input_details[\"dtype\"])[None, ...]\n",
    "\n",
    "# prepara e invoca\n",
    "interpreter.resize_tensor_input(input_details[\"index\"], img_q.shape)\n",
    "interpreter.allocate_tensors()\n",
    "interpreter.set_tensor(input_details[\"index\"], img_q)\n",
    "interpreter.invoke()\n",
    "\n",
    "# obtém saída e dequantiza\n",
    "pred_q  = interpreter.get_tensor(output_details[\"index\"])[0]\n",
    "pred_f  = (pred_q.astype(np.float32) - out_zp) * out_scale\n",
    "label   = pred_f.argmax()\n",
    "\n",
    "# plota\n",
    "plt.imshow(img.squeeze(), cmap=\"gray\")\n",
    "plt.title(f\"Verdadeiro: {true}   Previsto: {label}\")\n",
    "plt.axis(\"off\")\n",
    "plt.show()\n",
    "\n",
    "# confiança\n",
    "print(f\"Confiança: {pred_f[label]:.3f}\")\n"
   ]
  }
 ],
 "metadata": {
  "kaggle": {
   "accelerator": "gpu",
   "dataSources": [],
   "dockerImageVersionId": 31041,
   "isGpuEnabled": true,
   "isInternetEnabled": true,
   "language": "python",
   "sourceType": "notebook"
  },
  "kernelspec": {
   "display_name": "Python 3",
   "language": "python",
   "name": "python3"
  },
  "language_info": {
   "codemirror_mode": {
    "name": "ipython",
    "version": 3
   },
   "file_extension": ".py",
   "mimetype": "text/x-python",
   "name": "python",
   "nbconvert_exporter": "python",
   "pygments_lexer": "ipython3",
   "version": "3.11.11"
  }
 },
 "nbformat": 4,
 "nbformat_minor": 4
}
